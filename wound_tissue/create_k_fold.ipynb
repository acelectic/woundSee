{
 "cells": [
  {
   "cell_type": "code",
   "execution_count": 31,
   "metadata": {},
   "outputs": [],
   "source": [
    "import os\n",
    "import shutil\n",
    "from tqdm import tqdm\n",
    "\n",
    "from random import shuffle\n",
    "import time\n",
    "\n",
    "import numpy as np\n",
    "\n",
    "from sklearn.model_selection import KFold\n",
    "\n",
    "from matplotlib import pyplot as plt\n",
    "import cv2"
   ]
  },
  {
   "cell_type": "code",
   "execution_count": 32,
   "metadata": {},
   "outputs": [
    {
     "name": "stdout",
     "output_type": "stream",
     "text": [
      "Samples: 16408\n"
     ]
    }
   ],
   "source": [
    "dataset_name    = \"wound_rajavithi_korean_medetec\"\n",
    "type_wound_name = \"wound_tissue\"\n",
    "\n",
    "root            = os.path.join(\"..\", \"..\", \"..\", \"data\", dataset_name, \"wound_segmentation\", type_wound_name)\n",
    "source_dir      = os.path.join(root, \"training_with_rotation_color\")\n",
    "\n",
    "# Train_Original = '/notebooks/VOLUME_1TB/Thesis_dataset/Train_Original'\n",
    "Train_Original = source_dir\n",
    "Train_Features = os.path.join(Train_Original, 'feature')\n",
    "Train_Labels   = os.path.join(Train_Original, 'label')\n",
    "\n",
    "for p in [\n",
    "    Train_Original, Train_Features, Train_Labels\n",
    "]:\n",
    "    if not os.path.exists(p):\n",
    "        raise Exception('%s not found.' % p)\n",
    "        \n",
    "Feature_paths = sorted( os.path.join(root, file) \\\n",
    "                     for root, _, files in os.walk(Train_Features) \\\n",
    "                     for file in files if 'check' not in root)\n",
    "\n",
    "Label_paths   = sorted( os.path.join(root, file) \\\n",
    "                     for root, _, files in os.walk(Train_Labels) \\\n",
    "                     for file in files if 'check' not in root)\n",
    "\n",
    "samples = list(zip(Feature_paths, Label_paths))\n",
    "\n",
    "for feature, label in samples:\n",
    "    f_name = feature.split(os.sep)[-1]\n",
    "    l_name = label.split(os.sep)[-1]\n",
    "    if f_name != l_name:\n",
    "        raise Exception('Name not valid. (%s, %s)' % (f_name, l_name))\n",
    "        \n",
    "print('Samples: %d' % (len(samples)))"
   ]
  },
  {
   "cell_type": "code",
   "execution_count": 33,
   "metadata": {},
   "outputs": [
    {
     "name": "stdout",
     "output_type": "stream",
     "text": [
      "Train\tTest\tTotal\n",
      "14767\t1641\t16408\n",
      "14767\t1641\t16408\n",
      "14767\t1641\t16408\n",
      "14767\t1641\t16408\n",
      "14767\t1641\t16408\n",
      "14767\t1641\t16408\n",
      "14767\t1641\t16408\n",
      "14767\t1641\t16408\n",
      "14768\t1640\t16408\n",
      "14768\t1640\t16408\n"
     ]
    }
   ],
   "source": [
    "def get_k_fold(data, k):\n",
    "    data = np.asarray(data)\n",
    "    kf = KFold(n_splits=k)\n",
    "    folds = []\n",
    "    for train_index, test_index in kf.split(data):\n",
    "        train = data[train_index].tolist()\n",
    "        test  = data[test_index].tolist()\n",
    "        folds.append((train, test))\n",
    "    return folds\n",
    "        \n",
    "folds = get_k_fold(samples, 10)\n",
    "print('Train\\tTest\\tTotal')\n",
    "for fold in folds:\n",
    "    train, test = fold\n",
    "    print('%5d\\t%4d\\t%5d' % (len(train), len(test), len(train)+len(test)))"
   ]
  },
  {
   "cell_type": "code",
   "execution_count": 34,
   "metadata": {},
   "outputs": [],
   "source": [
    "k_fold_dir = os.path.join(root, \"training_k_fold_with_rotation_color\")\n",
    "\n",
    "if os.path.exists(k_fold_dir):\n",
    "    shutil.rmtree(k_fold_dir)\n",
    "os.mkdir(k_fold_dir)\n",
    "\n",
    "for index, fold in enumerate(folds):\n",
    "    fold_dir = os.path.join( k_fold_dir, str(index+1) )\n",
    "    os.mkdir(fold_dir)\n",
    "    train, test = fold\n",
    "    \n",
    "    train_dir         = os.path.join( fold_dir, 'Train' )\n",
    "    train_feature_dir = os.path.join(train_dir, 'Features')\n",
    "    train_label_dir   = os.path.join(train_dir, 'Labels')\n",
    "    \n",
    "    os.mkdir(train_dir)\n",
    "    os.mkdir(train_feature_dir)\n",
    "    os.mkdir(train_label_dir)\n",
    "    \n",
    "    for f_src, l_src in train:\n",
    "        file_name = f_src.split(os.sep)[-1]\n",
    "        f_dst = os.path.join(train_feature_dir, file_name)\n",
    "        l_dst = os.path.join(train_label_dir  , file_name)\n",
    "        shutil.copy2(f_src, f_dst)\n",
    "        shutil.copy2(l_src, l_dst)\n",
    "        \n",
    "    test_dir = os.path.join( fold_dir, 'Validate' )\n",
    "    test_feature_dir = os.path.join(test_dir, 'Features')\n",
    "    test_label_dir   = os.path.join(test_dir, 'Labels')\n",
    "    os.mkdir(test_dir)\n",
    "    os.mkdir(test_feature_dir)\n",
    "    os.mkdir(test_label_dir)\n",
    "    \n",
    "    for f_src, l_src in test:\n",
    "        file_name = f_src.split(os.sep)[-1]\n",
    "        f_dst = os.path.join(test_feature_dir, file_name)\n",
    "        l_dst = os.path.join(test_label_dir  , file_name)\n",
    "        shutil.copy2(f_src, f_dst)\n",
    "        shutil.copy2(l_src, l_dst)\n",
    "        \n",
    "#         f, (ax1, ax2) = plt.subplots(1, 2, figsize=(10, 4))\n",
    "#         image = cv2.cvtColor(cv2.imread(f_src, cv2.IMREAD_COLOR), cv2.COLOR_BGR2RGB)\n",
    "#         ax1.imshow(image)\n",
    "#         image = cv2.imread(l_src, cv2.IMREAD_GRAYSCALE)\n",
    "#         ax2.imshow(image)\n",
    "#         f.suptitle(f_src)\n",
    "#         plt.show()"
   ]
  },
  {
   "cell_type": "code",
   "execution_count": null,
   "metadata": {},
   "outputs": [],
   "source": []
  }
 ],
 "metadata": {
  "kernelspec": {
   "display_name": "Python 3",
   "language": "python",
   "name": "python3"
  },
  "language_info": {
   "codemirror_mode": {
    "name": "ipython",
    "version": 3
   },
   "file_extension": ".py",
   "mimetype": "text/x-python",
   "name": "python",
   "nbconvert_exporter": "python",
   "pygments_lexer": "ipython3",
   "version": "3.7.6"
  }
 },
 "nbformat": 4,
 "nbformat_minor": 4
}
