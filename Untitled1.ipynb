{
 "cells": [
  {
   "cell_type": "code",
   "execution_count": 5,
   "metadata": {},
   "outputs": [],
   "source": [
    "import os, glob, shutil"
   ]
  },
  {
   "cell_type": "code",
   "execution_count": 12,
   "metadata": {},
   "outputs": [],
   "source": [
    "root = os.path.join(os.getcwd())\n",
    "src_dir = os.path.join(root, \"KoreanPLoS-2016\")\n",
    "dst_image_dir = os.path.join(root, \"KoreanPLoS-2016-extact\")"
   ]
  },
  {
   "cell_type": "code",
   "execution_count": 13,
   "metadata": {},
   "outputs": [],
   "source": [
    "walks = os.walk(src_dir, topdown=True)"
   ]
  },
  {
   "cell_type": "markdown",
   "metadata": {},
   "source": [
    "สร้างโฟลเดอร์ใหม่ไว้เฉยๆ"
   ]
  },
  {
   "cell_type": "code",
   "execution_count": 4,
   "metadata": {},
   "outputs": [],
   "source": [
    "# dst_image_dir = os.path.join(root, \"KoreanPLoS-2016-test-extact\")\n",
    "# index = 1\n",
    "# for root_dir, dirs, files in walks:\n",
    "# #     image_name = image_path.split(os.sep)[-1]\n",
    "#     if root_dir == src_dir:\n",
    "#         continue\n",
    "#     old_image_paths = [os.path.join(root_dir, image_name) for image_name in files]\n",
    "    \n",
    "#     dst_sub_dir = os.path.join(dst_image_dir, str(index).zfill(4))\n",
    "#     os.makedirs(dst_sub_dir, exist_ok=True)\n",
    "    \n",
    "#     new_image_paths  = [os.path.join(dst_sub_dir, str(i).zfill(4)) for i, image_name in enumerate(files)]\n",
    "# #     new_dst = os.path.join(root, \"KoreanPLoS-2016-extact\")\n",
    "#     index += 1\n",
    "#     for i in range(len(old_image_paths)):\n",
    "#         shutil.copy(old_image_paths[i], new_image_paths[i])"
   ]
  },
  {
   "cell_type": "code",
   "execution_count": 14,
   "metadata": {},
   "outputs": [
    {
     "name": "stdout",
     "output_type": "stream",
     "text": [
      "pone_0163092_s012\n",
      "pone_0163092_s026\n",
      "pone_0163092_s015\n",
      "pone_0163092_s011\n",
      "pone_0163092_s005\n",
      "pone_0163092_s030\n",
      "pone_0163092_s023\n",
      "pone_0163092_s022\n",
      "pone_0163092_s016\n",
      "pone_0163092_s014\n",
      "pone_0163092_s002\n",
      "pone_0163092_s024\n",
      "pone_0163092_s021\n",
      "pone_0163092_s006\n",
      "pone_0163092_s017\n",
      "pone_0163092_s008\n",
      "pone_0163092_s029\n",
      "pone_0163092_s018\n",
      "pone_0163092_s028\n",
      "pone_0163092_s020\n",
      "pone_0163092_s025\n",
      "pone_0163092_s013\n",
      "pone_0163092_s019\n",
      "pone_0163092_s004\n",
      "pone_0163092_s010\n",
      "pone_0163092_s027\n",
      "pone_0163092_s001\n",
      "pone_0163092_s009\n",
      "pone_0163092_s003\n",
      "pone_0163092_s007\n"
     ]
    }
   ],
   "source": [
    "dst_image_dir = os.path.join(root, \"KoreanPLoS-2016-extact\")\n",
    "\n",
    "try:\n",
    "    shutil.rmtree(dst_image_dir)\n",
    "except OSError as e:\n",
    "    print(\"Error: %s : %s\" % (dst_image_dir, e.strerror))\n",
    "\n",
    "index = 1\n",
    "for root_dir, dirs, files in walks:\n",
    "#     image_name = image_path.split(os.sep)[-1]\n",
    "    if root_dir == src_dir:\n",
    "        continue\n",
    "        \n",
    "    files =sorted(files, key=lambda x: int(x.lower().replace(\".jpg\", \"\").replace(\".png\", \"\")))\n",
    "    old_image_paths = [os.path.join(root_dir, image_name) for image_name in files]\n",
    "    \n",
    "    \n",
    "    dst_sub_dir = os.path.join(dst_image_dir)\n",
    "    os.makedirs(dst_sub_dir, exist_ok=True)\n",
    "    \n",
    "    root_name = \"_\".join(root_dir.split(os.sep)[-1].split(\".\"))\n",
    "    print(root_name)\n",
    "    new_image_paths  = [os.path.join(dst_sub_dir, \"_\".join([root_name, str(i).zfill(4)+\".jpg\"])) for i, image_name in enumerate(files)]\n",
    "    new_dst = os.path.join(root, \"KoreanPLoS-2016-extact\")\n",
    "    index += 1\n",
    "    for i in range(len(old_image_paths)):\n",
    "        shutil.copy(old_image_paths[i], new_image_paths[i])"
   ]
  },
  {
   "cell_type": "code",
   "execution_count": 11,
   "metadata": {},
   "outputs": [],
   "source": [
    "dst_image_dir = os.path.join(root, \"KoreanPLoS-2016-extact\")\n",
    "\n",
    "images = glob.glob(dst_image_dir + \"/*\")\n",
    "\n",
    "for image_name in images:\n",
    "    sub_dir = image_name.split(os.sep)[-1].replace(\".jpg\", \"\")\n",
    "    new_path = os.path.join(dst_image_dir, sub_dir)\n",
    "    os.makedirs(new_path, exist_ok=True)\n",
    "    shutil.move(image_name, os.path.join(new_path, image_name.split(os.sep)[-1]))\n"
   ]
  },
  {
   "cell_type": "code",
   "execution_count": null,
   "metadata": {},
   "outputs": [],
   "source": []
  }
 ],
 "metadata": {
  "kernelspec": {
   "display_name": "Python 3.5.2 64-bit",
   "language": "python",
   "name": "python35264bitb934ab25f7fd48708f25ba96c101aa5b"
  },
  "language_info": {
   "codemirror_mode": {
    "name": "ipython",
    "version": 3
   },
   "file_extension": ".py",
   "mimetype": "text/x-python",
   "name": "python",
   "nbconvert_exporter": "python",
   "pygments_lexer": "ipython3",
   "version": "3.5.2"
  }
 },
 "nbformat": 4,
 "nbformat_minor": 2
}
