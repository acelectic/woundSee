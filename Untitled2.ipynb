{
 "cells": [
  {
   "cell_type": "code",
   "execution_count": 51,
   "metadata": {},
   "outputs": [],
   "source": [
    "import json\n",
    "import pprint"
   ]
  },
  {
   "cell_type": "code",
   "execution_count": 12,
   "metadata": {},
   "outputs": [],
   "source": [
    "log_txt = open(\"log_uat.txt\", 'r').read().split(\"\\n\")\n"
   ]
  },
  {
   "cell_type": "code",
   "execution_count": 19,
   "metadata": {},
   "outputs": [
    {
     "data": {
      "text/plain": [
       "{'error': 'Cannot detect Landmark',\n",
       " 'file_name': 'Doc0999.jpg',\n",
       " 'ocr_invoice': {}}"
      ]
     },
     "execution_count": 19,
     "metadata": {},
     "output_type": "execute_result"
    }
   ],
   "source": [
    "json.loads(log_txt[250])"
   ]
  },
  {
   "cell_type": "code",
   "execution_count": 28,
   "metadata": {},
   "outputs": [
    {
     "name": "stdout",
     "output_type": "stream",
     "text": [
      "Expecting value: line 1 column 1 (char 0)\n"
     ]
    }
   ],
   "source": [
    "tmp = []\n",
    "error_list = []\n",
    "\n",
    "for i in log_txt:\n",
    "    try:\n",
    "        tmp += [json.loads(i)]\n",
    "        error_list += [json.loads(i)[\"error\"]]\n",
    "    except Exception as e:\n",
    "        print(e)\n",
    "error_list = set(error_list)"
   ]
  },
  {
   "cell_type": "code",
   "execution_count": 30,
   "metadata": {},
   "outputs": [
    {
     "data": {
      "text/plain": [
       "{'Cannot detect Landmark',\n",
       " 'Cannot detect RefPoint',\n",
       " 'Cannot locate Landmark',\n",
       " 'None',\n",
       " 'Something went wrong'}"
      ]
     },
     "execution_count": 30,
     "metadata": {},
     "output_type": "execute_result"
    }
   ],
   "source": [
    "error_list"
   ]
  },
  {
   "cell_type": "code",
   "execution_count": 48,
   "metadata": {},
   "outputs": [],
   "source": [
    "result = []\n",
    "for error in error_list:\n",
    "    for log in tmp:\n",
    "        if error == log[\"error\"] and len(result) <= 4:\n",
    "            result += [log]\n",
    "            break\n",
    "        "
   ]
  },
  {
   "cell_type": "code",
   "execution_count": 49,
   "metadata": {},
   "outputs": [
    {
     "data": {
      "text/plain": [
       "5"
      ]
     },
     "execution_count": 49,
     "metadata": {},
     "output_type": "execute_result"
    }
   ],
   "source": [
    "len(result)"
   ]
  },
  {
   "cell_type": "code",
   "execution_count": 52,
   "metadata": {},
   "outputs": [
    {
     "name": "stdout",
     "output_type": "stream",
     "text": [
      "0 \n",
      "\n",
      "{'error': 'Cannot detect RefPoint',\n",
      " 'file_name': 'Doc10032.jpg',\n",
      " 'ocr_invoice': {}}\n",
      "1 \n",
      "\n",
      "{'error': 'Something went wrong', 'file_name': 'Doc0275.jpg', 'ocr_invoice': {}}\n",
      "2 \n",
      "\n",
      "{'error': 'None',\n",
      " 'file_name': 'Doc0066.jpg',\n",
      " 'ocr_invoice': {'customer_store_code': '3024208368',\n",
      "                 'ocr_invoice_items': [{'invoice_sequence': '1',\n",
      "                                        'item_code': '110108',\n",
      "                                        'price': 82.77},\n",
      "                                       {'invoice_sequence': '2',\n",
      "                                        'item_code': '110115',\n",
      "                                        'price': 1116.48},\n",
      "                                       {'invoice_sequence': '3',\n",
      "                                        'item_code': '110146',\n",
      "                                        'price': 20.69},\n",
      "                                       {'invoice_sequence': '04',\n",
      "                                        'item_code': '110535',\n",
      "                                        'price': 39.86},\n",
      "                                       {'invoice_sequence': '5',\n",
      "                                        'item_code': '110412',\n",
      "                                        'price': 33.72},\n",
      "                                       {'invoice_sequence': '6',\n",
      "                                        'item_code': '110445',\n",
      "                                        'price': 33.72},\n",
      "                                       {'invoice_sequence': '7',\n",
      "                                        'item_code': '110320',\n",
      "                                        'price': 18.4},\n",
      "                                       {'invoice_sequence': '8',\n",
      "                                        'item_code': '110337',\n",
      "                                        'price': 15.32},\n",
      "                                       {'invoice_sequence': '9',\n",
      "                                        'item_code': '110344',\n",
      "                                        'price': 7.66},\n",
      "                                       {'invoice_sequence': '10',\n",
      "                                        'item_code': '110351',\n",
      "                                        'price': 99.2},\n",
      "                                       {'invoice_sequence': '11',\n",
      "                                        'item_code': '130212',\n",
      "                                        'price': 25.29},\n",
      "                                       {'invoice_sequence': '12',\n",
      "                                        'item_code': '110801',\n",
      "                                        'price': 36.8},\n",
      "                                       {'invoice_sequence': '13',\n",
      "                                        'item_code': '110818',\n",
      "                                        'price': 36.8},\n",
      "                                       {'invoice_sequence': '14',\n",
      "                                        'item_code': '110849',\n",
      "                                        'price': 36.8},\n",
      "                                       {'invoice_sequence': '15',\n",
      "                                        'item_code': '110956',\n",
      "                                        'price': 36.8},\n",
      "                                       {'invoice_sequence': '16',\n",
      "                                        'item_code': '110894',\n",
      "                                        'price': 27.66},\n",
      "                                       {'invoice_sequence': '17',\n",
      "                                        'item_code': '110924',\n",
      "                                        'price': 86.6},\n",
      "                                       {'invoice_sequence': '18',\n",
      "                                        'item_code': '111310',\n",
      "                                        'price': 19.92},\n",
      "                                       {'invoice_sequence': '19',\n",
      "                                        'item_code': '111327',\n",
      "                                        'price': 19.92},\n",
      "                                       {'invoice_sequence': '20',\n",
      "                                        'item_code': '111334',\n",
      "                                        'price': 19.92},\n",
      "                                       {'invoice_sequence': '21',\n",
      "                                        'item_code': '111341',\n",
      "                                        'price': 19.92},\n",
      "                                       {'invoice_sequence': '22',\n",
      "                                        'item_code': '111358',\n",
      "                                        'price': 19.92},\n",
      "                                       {'invoice_sequence': '23',\n",
      "                                        'item_code': '111365',\n",
      "                                        'price': 19.92},\n",
      "                                       {'invoice_sequence': '24',\n",
      "                                        'item_code': '411402',\n",
      "                                        'price': 61.28},\n",
      "                                       {'invoice_sequence': '25',\n",
      "                                        'item_code': '111499',\n",
      "                                        'price': 15.32},\n",
      "                                       {'invoice_sequence': '26',\n",
      "                                        'item_code': '111433',\n",
      "                                        'price': 15.82}],\n",
      "                 'page': '1',\n",
      "                 'sequence': '00035',\n",
      "                 'status': 'normal',\n",
      "                 'total_page': '3',\n",
      "                 'vat_no': ['2862050214',\n",
      "                            '2862CS0214',\n",
      "                            '2862C50214',\n",
      "                            '28620S0214']}}\n",
      "3 \n",
      "\n",
      "{'error': 'Cannot locate Landmark',\n",
      " 'file_name': 'Doc0027.jpg',\n",
      " 'ocr_invoice': {}}\n",
      "4 \n",
      "\n",
      "{'error': 'Cannot detect Landmark',\n",
      " 'file_name': 'Doc0464.jpg',\n",
      " 'ocr_invoice': {}}\n"
     ]
    }
   ],
   "source": [
    "for i, e in enumerate(result):\n",
    "    print(i, '\\n')\n",
    "    pprint.pprint(e)"
   ]
  },
  {
   "cell_type": "code",
   "execution_count": null,
   "metadata": {},
   "outputs": [],
   "source": []
  }
 ],
 "metadata": {
  "kernelspec": {
   "display_name": "Python 3.5.2 64-bit",
   "language": "python",
   "name": "python35264bitb934ab25f7fd48708f25ba96c101aa5b"
  },
  "language_info": {
   "codemirror_mode": {
    "name": "ipython",
    "version": 3
   },
   "file_extension": ".py",
   "mimetype": "text/x-python",
   "name": "python",
   "nbconvert_exporter": "python",
   "pygments_lexer": "ipython3",
   "version": "3.5.2"
  }
 },
 "nbformat": 4,
 "nbformat_minor": 2
}
