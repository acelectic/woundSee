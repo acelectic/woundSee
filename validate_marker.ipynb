{
 "cells": [
  {
   "cell_type": "code",
   "execution_count": 81,
   "metadata": {},
   "outputs": [],
   "source": [
    "import os, glob\n",
    "import cv2\n",
    "import matplotlib.pyplot as plt\n",
    "import numpy as np"
   ]
  },
  {
   "cell_type": "code",
   "execution_count": 82,
   "metadata": {},
   "outputs": [],
   "source": [
    "file_extention = ['.png', '.jpg']\n",
    "image_dir = 'set2'"
   ]
  },
  {
   "cell_type": "code",
   "execution_count": 83,
   "metadata": {},
   "outputs": [],
   "source": [
    "def getAllImage(path, file_types=file_extention):\n",
    "    tmp = []\n",
    "    if(type(file_types) is list):\n",
    "        for file_type in file_types:\n",
    "            tmp_path = os.path.join(path, '*' + file_type)\n",
    "#             print(tmp_path)\n",
    "            tmp += glob.glob(tmp_path)\n",
    "    elif(type(file_types) is str):\n",
    "        tmp_path = os.path.join(path, '*' + file_types)\n",
    "        tmp += glob.glob(tmp_path)\n",
    "    return tmp"
   ]
  },
  {
   "cell_type": "code",
   "execution_count": 88,
   "metadata": {},
   "outputs": [
    {
     "name": "stdout",
     "output_type": "stream",
     "text": [
      "set2 ['100202', '100203', '100205', '100206', '100208', '100209', '100213', '100217', '100219', '100220', '100222', '100223', '100224', '100225', '100231', '100232', '100233', '100235', '100236', '100237', '100238', '100240', 'unknow']\n"
     ]
    },
    {
     "data": {
      "image/png": "[encoded data removed]",
      "text/plain": [
       "<Figure size 432x288 with 1 Axes>"
      ]
     },
     "metadata": {
      "needs_background": "light"
     },
     "output_type": "display_data"
    },
    {
     "name": "stdout",
     "output_type": "stream",
     "text": [
      "set2\\100202\\100202_epithelial001.png\n",
      "set2\\100202\\100202_granulation001.png\n",
      "set2\\100202\\100202_necrosis001.png\n"
     ]
    }
   ],
   "source": [
    "for root, dirs, files in os.walk(image_dir, topdown=True):\n",
    "    if(root == image_dir and len(dirs) > 0):\n",
    "        print(root, dirs)\n",
    "        for sub_dir in dirs[:1]:\n",
    "            img_origin = getAllImage(os.path.join(root, sub_dir), '.jpg')[0]\n",
    "            img = cv2.cvtColor(cv2.imread(tissue_img_path), cv2.COLOR_BGR2RGB)\n",
    "            plt.imshow(img)\n",
    "            plt.show()            \n",
    "            tissue_img_paths = getAllImage(os.path.join(root, sub_dir), '.png')\n",
    "            for tissue_img_path in tissue_img_paths:\n",
    "                mask = cv2.imread(tissue_img_path, 0)\n",
    "                if(np.count_nonzero(mask) > 0):\n",
    "                    print(tissue_img_path)\n",
    "                    res = cv2.bitwise_and(img, img, mask = mask)\n",
    "#             plt.imshow(res)\n",
    "            plt.show()"
   ]
  },
  {
   "cell_type": "code",
   "execution_count": null,
   "metadata": {},
   "outputs": [],
   "source": [
    "# for root, dirs, files in os.walk(image_dir, topdown=True):\n",
    "#     if(root == image_dir and len(dirs) > 0):\n",
    "#         print(root, dirs)\n",
    "#         for sub_dir in dirs[:1]:\n",
    "#             img_origin = getAllImage(os.path.join(root, sub_dir), '.jpg')[0]\n",
    "#             img_origin = cv2.imread()\n",
    "#             tissue_img_paths = getAllImage(os.path.join(root, sub_dir), '.png')\n",
    "#             for tissue_img_path in tissue_img_paths:\n",
    "#                 mask = cv2.imread(tissue_img_path, 0)\n",
    "#                 if(np.count_nonzero(mask) > 0):\n",
    "#                     print(tissue_img_path)\n",
    "#                     res = cv2.bitwise_and(img_origin, img_origin, mask = mask)\n",
    "#                     plt.imshow(res)\n",
    "#                     plt.show()"
   ]
  }
 ],
 "metadata": {
  "kernelspec": {
   "display_name": "Python 3",
   "language": "python",
   "name": "python3"
  },
  "language_info": {
   "codemirror_mode": {
    "name": "ipython",
    "version": 3
   },
   "file_extension": ".py",
   "mimetype": "text/x-python",
   "name": "python",
   "nbconvert_exporter": "python",
   "pygments_lexer": "ipython3",
   "version": "3.5.3"
  }
 },
 "nbformat": 4,
 "nbformat_minor": 4
}
